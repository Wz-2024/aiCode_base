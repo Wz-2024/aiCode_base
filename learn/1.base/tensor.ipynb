{
 "cells": [
  {
   "cell_type": "markdown",
   "metadata": {},
   "source": [
    "### torch的基本使用"
   ]
  },
  {
   "cell_type": "code",
   "execution_count": 2,
   "metadata": {},
   "outputs": [],
   "source": [
    "import torch\n"
   ]
  },
  {
   "cell_type": "code",
   "execution_count": 3,
   "metadata": {},
   "outputs": [],
   "source": [
    "x=torch.tensor([[1,0,0],[1,0,0],[1,0,1],[1,1,1]],dtype=torch.float32)"
   ]
  },
  {
   "cell_type": "code",
   "execution_count": 4,
   "metadata": {},
   "outputs": [
    {
     "data": {
      "text/plain": [
       "tensor([[1., 0., 0.],\n",
       "        [1., 0., 0.],\n",
       "        [1., 0., 1.],\n",
       "        [1., 1., 1.]])"
      ]
     },
     "execution_count": 4,
     "metadata": {},
     "output_type": "execute_result"
    }
   ],
   "source": [
    "x"
   ]
  },
  {
   "cell_type": "code",
   "execution_count": 5,
   "metadata": {},
   "outputs": [
    {
     "data": {
      "text/plain": [
       "torch.Size([4, 3])"
      ]
     },
     "execution_count": 5,
     "metadata": {},
     "output_type": "execute_result"
    }
   ],
   "source": [
    "x.shape"
   ]
  },
  {
   "cell_type": "code",
   "execution_count": 6,
   "metadata": {},
   "outputs": [
    {
     "data": {
      "text/plain": [
       "torch.Size([3])"
      ]
     },
     "execution_count": 6,
     "metadata": {},
     "output_type": "execute_result"
    }
   ],
   "source": [
    "w=torch.tensor([-0.2,0.15,0.15])\n",
    "w.shape"
   ]
  },
  {
   "cell_type": "markdown",
   "metadata": {},
   "source": [
    "### Linear的基本使用，记住两个参数即可"
   ]
  },
  {
   "cell_type": "code",
   "execution_count": 7,
   "metadata": {},
   "outputs": [],
   "source": [
    "def LinearR(x,w):\n",
    "    return torch.mv(x,w)\n",
    "    return zhat"
   ]
  },
  {
   "cell_type": "code",
   "execution_count": 8,
   "metadata": {},
   "outputs": [
    {
     "data": {
      "text/plain": [
       "tensor([-0.2000, -0.2000, -0.0500,  0.1000])"
      ]
     },
     "execution_count": 8,
     "metadata": {},
     "output_type": "execute_result"
    }
   ],
   "source": [
    "#\n",
    "zhat=LinearR(x,w)\n",
    "z=torch.tensor([-0.2,-0.05,-0.05,0.1],dtype=torch.float32)\n",
    "z.shape\n",
    "zhat"
   ]
  },
  {
   "cell_type": "code",
   "execution_count": 9,
   "metadata": {},
   "outputs": [
    {
     "data": {
      "text/plain": [
       "tensor([[-0.2000],\n",
       "        [-0.2000],\n",
       "        [-0.0500],\n",
       "        [ 0.1000]])"
      ]
     },
     "execution_count": 9,
     "metadata": {},
     "output_type": "execute_result"
    }
   ],
   "source": [
    "z=torch.tensor([[-0.2],[-0.2],[-0.05],[0.1]])\n",
    "z"
   ]
  },
  {
   "cell_type": "code",
   "execution_count": 10,
   "metadata": {},
   "outputs": [
    {
     "data": {
      "text/plain": [
       "tensor([[ True,  True, False, False],\n",
       "        [ True,  True, False, False],\n",
       "        [False, False, False, False],\n",
       "        [False, False, False, False]])"
      ]
     },
     "execution_count": 10,
     "metadata": {},
     "output_type": "execute_result"
    }
   ],
   "source": [
    "z==zhat"
   ]
  },
  {
   "cell_type": "code",
   "execution_count": 11,
   "metadata": {},
   "outputs": [
    {
     "data": {
      "text/plain": [
       "tensor([-0.2000, -0.2000, -0.0500,  0.1000])"
      ]
     },
     "execution_count": 11,
     "metadata": {},
     "output_type": "execute_result"
    }
   ],
   "source": [
    "z=z.view(4)\n",
    "z"
   ]
  },
  {
   "cell_type": "code",
   "execution_count": 12,
   "metadata": {},
   "outputs": [
    {
     "data": {
      "text/plain": [
       "tensor([ True,  True, False, False])"
      ]
     },
     "execution_count": 12,
     "metadata": {},
     "output_type": "execute_result"
    }
   ],
   "source": [
    "z==zhat"
   ]
  },
  {
   "cell_type": "code",
   "execution_count": 13,
   "metadata": {},
   "outputs": [
    {
     "data": {
      "text/plain": [
       "tensor(6.9389e-17)"
      ]
     },
     "execution_count": 13,
     "metadata": {},
     "output_type": "execute_result"
    }
   ],
   "source": [
    "SSE=sum((z-zhat)**2)\n",
    "SSE"
   ]
  },
  {
   "cell_type": "code",
   "execution_count": 14,
   "metadata": {},
   "outputs": [
    {
     "data": {
      "text/plain": [
       "torch.Size([300, 69, 33, 23])"
      ]
     },
     "execution_count": 14,
     "metadata": {},
     "output_type": "execute_result"
    }
   ],
   "source": [
    "#ones的使用\n",
    "#这里表示\n",
    "preds=torch.ones(300,69,33,23)*0.1\n",
    "preds.shape"
   ]
  },
  {
   "cell_type": "markdown",
   "metadata": {},
   "source": [
    "### allclose函数"
   ]
  },
  {
   "cell_type": "code",
   "execution_count": 15,
   "metadata": {},
   "outputs": [
    {
     "data": {
      "text/plain": [
       "True"
      ]
     },
     "execution_count": 15,
     "metadata": {},
     "output_type": "execute_result"
    }
   ],
   "source": [
    "a=torch.tensor([1,2,3,4],dtype=torch.float32)\n",
    "b=torch.tensor([1.0000000000000000001,2,3,4,])\n",
    "torch.allclose(a,b)"
   ]
  },
  {
   "cell_type": "markdown",
   "metadata": {},
   "source": [
    "### 随机种子"
   ]
  },
  {
   "cell_type": "code",
   "execution_count": 16,
   "metadata": {},
   "outputs": [
    {
     "data": {
      "text/plain": [
       "torch.Size([4, 2])"
      ]
     },
     "execution_count": 16,
     "metadata": {},
     "output_type": "execute_result"
    }
   ],
   "source": [
    "import torch \n",
    "import torch.nn as nn\n",
    "torch.random.manual_seed(2333)\n",
    "X=torch.tensor([[0,0],[1,0],[0,1],[1,1]],dtype=torch.float32)\n",
    "X.shape\n"
   ]
  },
  {
   "cell_type": "code",
   "execution_count": 17,
   "metadata": {},
   "outputs": [
    {
     "data": {
      "text/plain": [
       "tensor([[0.6913],\n",
       "        [0.8653],\n",
       "        [0.8777],\n",
       "        [1.0518]], grad_fn=<AddmmBackward0>)"
      ]
     },
     "execution_count": 17,
     "metadata": {},
     "output_type": "execute_result"
    }
   ],
   "source": [
    "output=nn.Linear(2,1)\n",
    "zhat=output(X)\n",
    "zhat"
   ]
  },
  {
   "cell_type": "code",
   "execution_count": 18,
   "metadata": {},
   "outputs": [
    {
     "data": {
      "text/plain": [
       "tensor([ True,  True, False, False])"
      ]
     },
     "execution_count": 18,
     "metadata": {},
     "output_type": "execute_result"
    }
   ],
   "source": [
    "import torch \n",
    "x=torch.tensor([0.6,0.7,0.3,0.3])\n",
    "x>0.5"
   ]
  },
  {
   "cell_type": "markdown",
   "metadata": {},
   "source": [
    "### 列表生成式"
   ]
  },
  {
   "cell_type": "code",
   "execution_count": 19,
   "metadata": {},
   "outputs": [
    {
     "data": {
      "text/plain": [
       "[1, 1, 0, 0]"
      ]
     },
     "execution_count": 19,
     "metadata": {},
     "output_type": "execute_result"
    }
   ],
   "source": [
    "tes=[int(t) for t in x>0.5]\n",
    "tes"
   ]
  },
  {
   "cell_type": "markdown",
   "metadata": {},
   "source": [
    "### nn.functional"
   ]
  },
  {
   "cell_type": "code",
   "execution_count": 20,
   "metadata": {},
   "outputs": [],
   "source": [
    "import torch\n",
    "from torch.nn import functional as F\n",
    "torch.manual_seed(2333)\n",
    "X=torch. tensor([[0,0],[1,0],[0,1],[1,1]],dtype=torch.float32)"
   ]
  },
  {
   "cell_type": "code",
   "execution_count": 21,
   "metadata": {},
   "outputs": [
    {
     "name": "stdout",
     "output_type": "stream",
     "text": [
      "tensor([[0.6913],\n",
      "        [0.8653],\n",
      "        [0.8777],\n",
      "        [1.0518]], grad_fn=<AddmmBackward0>)\n"
     ]
    },
    {
     "data": {
      "text/plain": [
       "tensor([[0.6662],\n",
       "        [0.7038],\n",
       "        [0.7063],\n",
       "        [0.7411]], grad_fn=<SigmoidBackward0>)"
      ]
     },
     "execution_count": 21,
     "metadata": {},
     "output_type": "execute_result"
    }
   ],
   "source": [
    "dense1=nn.Linear(2,1)\n",
    "zhat=dense1(X)\n",
    "print(zhat)\n",
    "sigma=F.sigmoid(zhat)\n",
    "sigma"
   ]
  },
  {
   "cell_type": "code",
   "execution_count": 22,
   "metadata": {},
   "outputs": [
    {
     "data": {
      "text/plain": [
       "[1, 1, 1, 1]"
      ]
     },
     "execution_count": 22,
     "metadata": {},
     "output_type": "execute_result"
    }
   ],
   "source": [
    "[int(x) for x in sigma>0.5]"
   ]
  },
  {
   "cell_type": "code",
   "execution_count": 25,
   "metadata": {},
   "outputs": [
    {
     "data": {
      "text/plain": [
       "tensor([[1.],\n",
       "        [1.],\n",
       "        [1.],\n",
       "        [1.]], grad_fn=<SignBackward0>)"
      ]
     },
     "execution_count": 25,
     "metadata": {},
     "output_type": "execute_result"
    }
   ],
   "source": [
    "sigma\n",
    "torch.sign(sigma)"
   ]
  },
  {
   "cell_type": "code",
   "execution_count": 27,
   "metadata": {},
   "outputs": [
    {
     "data": {
      "text/plain": [
       "tensor([[0.6662],\n",
       "        [0.7038],\n",
       "        [0.7063],\n",
       "        [0.7411]], grad_fn=<ReluBackward0>)"
      ]
     },
     "execution_count": 27,
     "metadata": {},
     "output_type": "execute_result"
    }
   ],
   "source": [
    "F.relu(sigma)"
   ]
  },
  {
   "cell_type": "markdown",
   "metadata": {},
   "source": [
    "#### 多分类"
   ]
  },
  {
   "cell_type": "code",
   "execution_count": 29,
   "metadata": {},
   "outputs": [
    {
     "data": {
      "text/plain": [
       "tensor([0.2788, 0.3081, 0.2065, 0.2065])"
      ]
     },
     "execution_count": 29,
     "metadata": {},
     "output_type": "execute_result"
    }
   ],
   "source": [
    "x=torch.tensor([0.6,0.7,0.3,0.3])\n",
    "torch.softmax(x,dim=0)"
   ]
  },
  {
   "cell_type": "code",
   "execution_count": 33,
   "metadata": {},
   "outputs": [
    {
     "name": "stdout",
     "output_type": "stream",
     "text": [
      "torch.Size([2, 3, 4])\n"
     ]
    },
    {
     "data": {
      "text/plain": [
       "tensor([[[ 1.,  2.,  3.,  4.],\n",
       "         [ 3.,  4.,  4.,  5.],\n",
       "         [ 5.,  6.,  5.,  6.]],\n",
       "\n",
       "        [[ 5.,  6.,  5.,  6.],\n",
       "         [ 7.,  8.,  6.,  7.],\n",
       "         [ 9., 10.,  5.,  6.]]])"
      ]
     },
     "execution_count": 33,
     "metadata": {},
     "output_type": "execute_result"
    }
   ],
   "source": [
    "x=torch.tensor([[[1,2,3,4],[3,4,4,5],[5,6,5,6]],[[5,6,5,6],[7,8,6,7],[9,10,5,6]]],dtype=torch.float32)\n",
    "print(x.shape)\n",
    "x"
   ]
  },
  {
   "cell_type": "code",
   "execution_count": 35,
   "metadata": {},
   "outputs": [
    {
     "name": "stdout",
     "output_type": "stream",
     "text": [
      "2 3 4 4\n"
     ]
    }
   ],
   "source": [
    "print(x.shape[0],x.shape[1],x.shape[2],x.shape[-1])"
   ]
  },
  {
   "cell_type": "code",
   "execution_count": 36,
   "metadata": {},
   "outputs": [
    {
     "data": {
      "text/plain": [
       "tensor([[[0.0180, 0.0180, 0.1192, 0.1192],\n",
       "         [0.0180, 0.0180, 0.1192, 0.1192],\n",
       "         [0.0180, 0.0180, 0.5000, 0.5000]],\n",
       "\n",
       "        [[0.9820, 0.9820, 0.8808, 0.8808],\n",
       "         [0.9820, 0.9820, 0.8808, 0.8808],\n",
       "         [0.9820, 0.9820, 0.5000, 0.5000]]])"
      ]
     },
     "execution_count": 36,
     "metadata": {},
     "output_type": "execute_result"
    }
   ],
   "source": [
    "torch.softmax(x,dim=0)"
   ]
  },
  {
   "cell_type": "markdown",
   "metadata": {},
   "source": [
    "#### cat()函数和view()函数\n"
   ]
  },
  {
   "cell_type": "code",
   "execution_count": 43,
   "metadata": {},
   "outputs": [
    {
     "name": "stdout",
     "output_type": "stream",
     "text": [
      "tensor([1., 1., 1., 1.])\n",
      "tensor([2., 2., 2., 2.])\n",
      "tensor([3., 3., 3., 3.])\n",
      "tensor([1., 1., 1., 1., 2., 2., 2., 2., 3., 3., 3., 3.])\n"
     ]
    }
   ],
   "source": [
    "a=torch.tensor([1,1,1,1],dtype=torch.float32)\n",
    "b=torch.tensor([2,2,2,2],dtype=torch.float32)\n",
    "c=torch.tensor([3,3,3,3],dtype=torch.float32)\n",
    "print(a,b,c,sep='\\n')\n",
    "print(torch.cat((a,b,c)))"
   ]
  },
  {
   "cell_type": "code",
   "execution_count": 52,
   "metadata": {},
   "outputs": [
    {
     "name": "stdout",
     "output_type": "stream",
     "text": [
      "tensor([[1., 1., 1., 1.],\n",
      "        [2., 2., 2., 2.],\n",
      "        [3., 3., 3., 3.]])\n"
     ]
    },
    {
     "data": {
      "text/plain": [
       "tensor([[1., 2., 3.],\n",
       "        [1., 2., 3.],\n",
       "        [1., 2., 3.],\n",
       "        [1., 2., 3.]])"
      ]
     },
     "execution_count": 52,
     "metadata": {},
     "output_type": "execute_result"
    }
   ],
   "source": [
    "x=torch.cat((a.view(1,4),b.view(1,4),c.view(1,4)))\n",
    "print(x)\n",
    "x=torch.cat((a.view(4,1),b.view(4,1),c.view(4,1)),dim=1)\n",
    "x"
   ]
  },
  {
   "cell_type": "markdown",
   "metadata": {},
   "source": [
    "#### 二分类损失"
   ]
  },
  {
   "cell_type": "code",
   "execution_count": null,
   "metadata": {},
   "outputs": [],
   "source": [
    "import torch\n",
    "import torch.nn as nn\n",
    "\n",
    "import torch.nn.functional as F\n",
    "if torch.cuda.is_available():\n",
    "    device='cuda'\n",
    "else:\n",
    "    device='cpu'\n",
    "\n",
    "torch.random.manual_seed(1)\n",
    "m=300000\n",
    "X=torch.rand((m,4),dtype=torch.float32,device='cuda')#这个是生成0-1之间的均匀分布\n",
    "w=torch.randn((4,1),dtype=torch.float32,device='cuda')#这个生成[-3,3]的\n",
    "y=torch.randint(low=0,high=2,size=(m,1),dtype=torch.float32,device='cuda')#左闭右开\n",
    "#这里(m,1)表示每个样本最终对应一个标签,如果是多标签的话就是(m,2),\n",
    "#比如说,一颗苹果既是水果又是植物"
   ]
  },
  {
   "cell_type": "code",
   "execution_count": null,
   "metadata": {},
   "outputs": [],
   "source": [
    "#torch中mv表示metrix和vector相乘,mm表示metix和metix相乘\n",
    "zhat=torch.mm(X,w)\n",
    "sigma=torch.sigmoid(zhat)\n",
    "re=[int(i) for i in sigma>0.5]\n",
    "print(re)\n",
    "# print(zhat)\n",
    "print(sigma)\n",
    "\n",
    "sigma.shape"
   ]
  },
  {
   "cell_type": "code",
   "execution_count": 24,
   "metadata": {},
   "outputs": [
    {
     "name": "stdout",
     "output_type": "stream",
     "text": [
      "tensor(1.0310, device='cuda:0')\n"
     ]
    }
   ],
   "source": [
    "criterion=nn.BCELoss()\n",
    "loss=criterion(sigma,y)\n",
    "print(loss)"
   ]
  },
  {
   "cell_type": "code",
   "execution_count": 25,
   "metadata": {},
   "outputs": [
    {
     "name": "stdout",
     "output_type": "stream",
     "text": [
      "tensor(1.0310, device='cuda:0')\n"
     ]
    }
   ],
   "source": [
    "criterion=nn.BCEWithLogitsLoss()\n",
    "loss=criterion(zhat,y)\n",
    "print(loss)"
   ]
  },
  {
   "cell_type": "markdown",
   "metadata": {},
   "source": [
    "#### 多分类交叉熵损失"
   ]
  },
  {
   "cell_type": "code",
   "execution_count": 13,
   "metadata": {},
   "outputs": [
    {
     "name": "stdout",
     "output_type": "stream",
     "text": [
      "torch.Size([300000, 3])\n",
      "torch.Size([300000, 3])\n"
     ]
    }
   ],
   "source": [
    "import torch\n",
    "import torch.nn as nn\n",
    "\n",
    "import torch.nn.functional as F\n",
    "if torch.cuda.is_available():\n",
    "    device='cuda'\n",
    "else:\n",
    "    device='cpu'\n",
    "\n",
    "torch.random.manual_seed(1)\n",
    "m=300000\n",
    "X=torch.rand((m,4),dtype=torch.float32,device='cuda')#这个是生成0-1之间的均匀分布\n",
    "w=torch.randn((4,3),dtype=torch.float32,device='cuda')#这个生成[-3,3]的\n",
    "y=torch.randint(low=0,high=3,size=(m,),dtype=torch.float32,device='cuda')#左闭右开\n",
    "\n",
    "\n",
    "#torch中mv表示metrix和vector相乘,mm表示metix和metix相乘\n",
    "zhat=torch.mm(X,w)\n",
    "# sigma=torch.sigmoid(zhat)\n",
    "# print(zhat.shape)\n",
    "# print(sigma.shape)"
   ]
  },
  {
   "cell_type": "code",
   "execution_count": 20,
   "metadata": {},
   "outputs": [
    {
     "name": "stdout",
     "output_type": "stream",
     "text": [
      "tensor([0., 1., 2.,  ..., 1., 1., 2.], device='cuda:0')\n",
      "tensor(1.2966, device='cuda:0')\n"
     ]
    }
   ],
   "source": [
    "#NLLL Loss\n",
    "logsm=nn.LogSoftmax(dim=1)\n",
    "logsigma=logsm(zhat)\n",
    "# print('经过softmax后的形状',logsigma.shape)\n",
    "# print('经过softmax后的值',logsigma)\n",
    "\n",
    "criterion=nn.NLLLoss()\n",
    "print(y)\n",
    "loss=criterion(logsigma,y.long())\n",
    "print(loss)"
   ]
  },
  {
   "cell_type": "code",
   "execution_count": 24,
   "metadata": {},
   "outputs": [
    {
     "name": "stdout",
     "output_type": "stream",
     "text": [
      "tensor(1.2966, device='cuda:0')\n"
     ]
    }
   ],
   "source": [
    "criterion2=nn.CrossEntropyLoss()\n",
    "loss=criterion2(zhat, y.long())\n",
    "print(loss)"
   ]
  },
  {
   "cell_type": "markdown",
   "metadata": {},
   "source": [
    "#### 反向传播"
   ]
  },
  {
   "cell_type": "markdown",
   "metadata": {},
   "source": []
  },
  {
   "cell_type": "code",
   "execution_count": 29,
   "metadata": {},
   "outputs": [
    {
     "data": {
      "text/plain": [
       "(tensor(2.),)"
      ]
     },
     "execution_count": 29,
     "metadata": {},
     "output_type": "execute_result"
    }
   ],
   "source": [
    "import torch\n",
    "import torch.nn as nn\n",
    "x=torch.tensor(1.,requires_grad=True)\n",
    "\n",
    "y=x**2\n",
    "y\n",
    "torch.autograd.grad(y,x)"
   ]
  },
  {
   "cell_type": "markdown",
   "metadata": {},
   "source": [
    "#### batch_size,dataset,DataLoader"
   ]
  },
  {
   "cell_type": "code",
   "execution_count": 33,
   "metadata": {},
   "outputs": [
    {
     "name": "stdout",
     "output_type": "stream",
     "text": [
      "torch.Size([120, 3, 4, 5])\n",
      "torch.Size([120, 3, 4, 5])\n",
      "torch.Size([120, 3, 4, 5])\n",
      "torch.Size([120, 3, 4, 5])\n"
     ]
    }
   ],
   "source": [
    "import torch\n",
    "from torch.utils.data import TensorDataset#用来合并数据集\n",
    "from torch.utils.data import DataLoader#用来切割小批量\n",
    "\n",
    "#建一个数据集,500个样本, 每个tensor2行3列\n",
    "a=torch.randn(500,2,3)\n",
    "\n",
    "b=torch.randn(500,3,4,5)\n",
    "\n",
    "c=torch.randn(500,1)\n",
    "\n",
    "#接下来将abc三个对象直接合并,,,合并的条件只有一个,那就是第一维度相等\n",
    "data=TensorDataset(b,c)\n",
    "\n",
    "bs=120\n",
    "dataset=DataLoader(\n",
    "    data,\n",
    "    batch_size=bs,\n",
    "    shuffle=True,#打乱数据\n",
    "    drop_last=True,#是否删除最后一个Batch,一般设为False\n",
    "    pin_memory=True,#如果用GPU训练,则这个设为True\n",
    "    )\n",
    "for i in dataset: \n",
    "    print(i[0].shape)"
   ]
  },
  {
   "cell_type": "code",
   "execution_count": 41,
   "metadata": {},
   "outputs": [
    {
     "name": "stdout",
     "output_type": "stream",
     "text": [
      "batch_size: 4\n",
      "样本量: 500\n",
      "第一个样本的特征张量: tensor([[[-1.5934,  0.7452, -0.3116,  1.4297, -0.2210],\n",
      "         [ 0.6270, -1.3275,  0.8758,  0.0151, -0.2953],\n",
      "         [-0.4051,  1.2169,  0.9025, -0.8736, -0.2740],\n",
      "         [-2.1409,  1.1845, -0.1835, -1.4289, -0.8023]],\n",
      "\n",
      "        [[-1.1896,  0.3341, -0.1841, -0.5048, -0.8671],\n",
      "         [-0.7539,  0.3416, -0.5688, -0.3429,  0.4283],\n",
      "         [ 0.6728, -0.7490, -0.3438, -0.5335,  0.0389],\n",
      "         [-0.7901,  1.1206,  0.4565,  0.0180,  0.2131]],\n",
      "\n",
      "        [[ 0.1621,  0.9041,  0.6083,  1.1701, -0.2720],\n",
      "         [ 0.4942, -0.0688, -1.5727,  1.0009, -1.4261],\n",
      "         [ 1.6200, -2.6805,  0.6616, -0.6709,  1.1145],\n",
      "         [-1.0867, -1.2570,  0.2372, -0.6445,  0.5567]]])\n",
      "第一个样本的标签 tensor([-0.0967])\n",
      "batch_size,即每一个批次的大小 120\n"
     ]
    }
   ],
   "source": [
    "length=len(dataset)#告诉我们当前分成了几个batch\n",
    "print(\"batch_size:\",length)\n",
    "\n",
    "N=len(dataset.dataset)#告诉当前有多少个样本\n",
    "print('样本量:',N)\n",
    "\n",
    "print('第一个样本的特征张量:',dataset.dataset[0][0])#表示第一个样本的特征张量\n",
    "print('第一个样本的标签',dataset.dataset[0][1])#表示第一个样本的标签\n",
    "print('batch_size,即每一个批次的大小',dataset.batch_size)"
   ]
  },
  {
   "cell_type": "markdown",
   "metadata": {},
   "source": [
    "#### Mnist 数据集"
   ]
  },
  {
   "cell_type": "code",
   "execution_count": 43,
   "metadata": {},
   "outputs": [
    {
     "name": "stdout",
     "output_type": "stream",
     "text": [
      "图像的形状 torch.Size([1, 28, 28])\n"
     ]
    },
    {
     "data": {
      "image/png": "[encoded data removed]",
      "text/plain": [
       "<Figure size 640x480 with 1 Axes>"
      ]
     },
     "metadata": {},
     "output_type": "display_data"
    }
   ],
   "source": [
    "import torch\n",
    "import torch.nn as nn\n",
    "import torch.nn.functional as F\n",
    "import torchvision #包含数据的模块\n",
    "import torchvision.transforms as transforms #用来处理数据的模块\n",
    "import matplotlib.pyplot as plt\n",
    "import numpy as np\n",
    "\n",
    "#实例化数据\n",
    "mnist=torchvision.datasets.FashionMNIST(\n",
    "    root='../data', #数据存放位置\n",
    "    train=True, #True则表示用训练集(很大),False则表示用测试集(小)\n",
    "    download=True, #是否下载数据,,如果在给定的路径下找到了数据集,那就不会再下载了\n",
    "    transform=transforms.ToTensor() #在数据集导入后进行统一的处理,都转化为torch能够处理的张量\n",
    ")\n",
    "def print_message():\n",
    "    print('直接打印mnist')\n",
    "    print(mnist)\n",
    "    print('----')\n",
    "    print('length,即样本数',len(mnist))\n",
    "    '''\n",
    "        对于图像数据集来讲,shape一般有四个维度\n",
    "        sample_size:样本数\n",
    "        H-height:图像高度\n",
    "        W-width:图像宽度\n",
    "        C-channel:图像通道数\n",
    "\n",
    "        但是对于Mnist中的数据来讲,它是单通道的[60000,28,28],神经网络无法识别三维的,因此需要reshape一下\n",
    "    '''\n",
    "    print('----')\n",
    "    print('shape:',mnist.data.shape)\n",
    "    print('----')\n",
    "    print('目标分类',mnist.targets.unique())\n",
    "    print('----')\n",
    "    print('打印分类类别的具体意义',mnist.classes)\n",
    "def show_image():\n",
    "    '''\n",
    "        这里需要解释,plt是py的原生库,torch作为第三方库,它的tensor不能被plt识别\n",
    "        因此需要先将tensor转化为numpy\n",
    "    '''\n",
    "    mnist[0]#中有两个元素,第一个是(转化为tensor的)图片,第二个是标签\n",
    "    print('图像的形状',mnist[0][0].shape)\n",
    "    plt.imshow(mnist[0][0].view(28,28).numpy())\n",
    "\n",
    "\n",
    "if __name__=='__main__':\n",
    "    # print_message()\n",
    "    show_image()"
   ]
  },
  {
   "cell_type": "markdown",
   "metadata": {},
   "source": [
    "#### 求acc"
   ]
  },
  {
   "cell_type": "code",
   "execution_count": null,
   "metadata": {},
   "outputs": [
    {
     "name": "stdout",
     "output_type": "stream",
     "text": [
      "torch.return_types.max(\n",
      "values=tensor([0.4000, 0.7000]),\n",
      "indices=tensor([2, 1]))\n",
      "预测标签为 tensor([2, 1])\n",
      "准确率为 tensor(0.5000)\n"
     ]
    }
   ],
   "source": [
    "import torch \n",
    "X=torch.tensor([[0.3,0.2,0.4],[0.1,0.7,0.2]])\n",
    "y=torch.tensor([0,1])\n",
    "\n",
    "print(torch.max(X,1))\n",
    "print('预测标签为',torch.max(X,1)[1])\n",
    "#算准确率这一步是对布尔张量求和,二者==得到的是一个布尔张量\n",
    "acc=torch.sum(torch.max(X,1)[1]==y)/len(y)\n",
    "print('准确率为',acc)"
   ]
  },
  {
   "cell_type": "code",
   "execution_count": null,
   "metadata": {},
   "outputs": [],
   "source": []
  }
 ],
 "metadata": {
  "kernelspec": {
   "display_name": "Flux",
   "language": "python",
   "name": "python3"
  },
  "language_info": {
   "codemirror_mode": {
    "name": "ipython",
    "version": 3
   },
   "file_extension": ".py",
   "mimetype": "text/x-python",
   "name": "python",
   "nbconvert_exporter": "python",
   "pygments_lexer": "ipython3",
   "version": "3.10.15"
  }
 },
 "nbformat": 4,
 "nbformat_minor": 2
}
