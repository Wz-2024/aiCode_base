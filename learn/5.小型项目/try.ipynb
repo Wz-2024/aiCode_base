{
 "cells": [
  {
   "cell_type": "code",
   "execution_count": 2,
   "metadata": {},
   "outputs": [
    {
     "name": "stdout",
     "output_type": "stream",
     "text": [
      "True\n",
      "(73257, 3, 32, 32)\n"
     ]
    }
   ],
   "source": [
    "import torch\n",
    "import torchvision\n",
    "import os\n",
    "import torchvision.transforms as T\n",
    "print(os.path.exists(\"/data_disk/dyy/python_projects/bili_dif/data_SVHN\"))\n",
    "\n",
    "#定义一些数据增强的Compose\n",
    "trainT=T.Compose([\n",
    "    T.RandomCrop(28),#裁剪尺寸\n",
    "    T.RandomRotation(degrees=[-30,30]),\n",
    "    T.ToTensor(),\n",
    "    T.Normalize(mean=[0.485,0.456,0.406],std=[0.229,0.224,0.225])\n",
    "]\n",
    ")\n",
    "train=torchvision.datasets.SVHN(\n",
    "    root='/data_disk/dyy/python_projects/bili_dif/data_SVHN',\n",
    "    split='train',\n",
    "    download=False,\n",
    "    transform=trainT\n",
    ")\n",
    "print(train.data.shape)\n",
    "train_loader=torch.utils.data.DataLoader(\n",
    "    dataset=train,\n",
    "    batch_size=64,\n",
    "    shuffle=True,\n",
    "    num_workers=4\n",
    ")\n",
    "\n"
   ]
  },
  {
   "cell_type": "code",
   "execution_count": 3,
   "metadata": {},
   "outputs": [
    {
     "name": "stdout",
     "output_type": "stream",
     "text": [
      "type(train): <class 'torchvision.datasets.svhn.SVHN'>\n",
      "\n",
      "train.data.shape: (73257, 3, 32, 32)\n",
      "train.labels.shape: (73257,)\n",
      "\n",
      "type(train[10]): <class 'tuple'>\n",
      "len(train[10]): 2\n",
      "type(train[10][0]): <class 'torch.Tensor'>\n",
      "train[10][0].shape: torch.Size([3, 28, 28])\n",
      "train[10][1]: 3\n",
      "\n",
      "设定了每个batch为64,那么loader中应该有73257/64个,,batch内层循环就是在遍历这个容器\n",
      "train_loader.dataset.__len__() 73257\n",
      "len(train_loader): 1145\n",
      "type(train_loader): <class 'torch.utils.data.dataloader.DataLoader'>\n",
      "---\n",
      "Dataset SVHN\n",
      "    Number of datapoints: 73257\n",
      "    Root location: /data_disk/dyy/python_projects/bili_dif/data_SVHN\n",
      "    Split: train\n",
      "    StandardTransform\n",
      "Transform: Compose(\n",
      "               RandomCrop(size=(28, 28), padding=None)\n",
      "               RandomRotation(degrees=[-30.0, 30.0], interpolation=nearest, expand=False, fill=0)\n",
      "               ToTensor()\n",
      "               Normalize(mean=[0.485, 0.456, 0.406], std=[0.229, 0.224, 0.225])\n",
      "           ) 22222\n",
      "从loader中选一个batch出来,一个batch就是流过nn的一个元素\n",
      "type(train_a_batch): <class 'list'>\n",
      "len(train_a_batch): 2\n",
      "\n",
      "这里注意到,每个batch是一个大list,其中有两个元素,一个是图像,另一个是标签张量\n",
      "train_a_batch[0].shape: torch.Size([64, 3, 28, 28])\n",
      "train_a_batch[1].shape: torch.Size([64])\n",
      "train_a_batch[0][0].shape: torch.Size([3, 28, 28])\n",
      "\n",
      "1144\n"
     ]
    }
   ],
   "source": [
    "print('type(train):',type(train))#torchvison封装好的类\n",
    "print()\n",
    "print('train.data.shape:',train.data.shape)#表示 (Sample,channel,height,width)\n",
    "#这里输出的是一个numpy数组 因此显示为(73257, 3, 32, 32)\n",
    "print('train.labels.shape:',train.labels.shape)#输出(Sample,),说明是一个标签向量,并且是np.array类型\n",
    "#为什么这里是numpy?因为这里是一个数据集,而不是一个dataloader,数据集就是原始的numpy\n",
    "#索引时候会调用__getitem__,又链式调用transform中的ToTensor(),前者会整合(data,label)\n",
    "print()\n",
    "print('type(train[10]):',type(train[10]))\n",
    "print('len(train[10]):',len(train[10]))#图像Tensor+标签\n",
    "print('type(train[10][0]):',type(train[10][0]))\n",
    "print('train[10][0].shape:',train[10][0].shape)\n",
    "print('train[10][1]:',train[10][1])#int是没有shape的\n",
    "print()\n",
    "train_loader=torch.utils.data.DataLoader(\n",
    "    dataset=train,\n",
    "    batch_size=64,\n",
    "    shuffle=True,\n",
    "    num_workers=4\n",
    ")\n",
    "\n",
    "\n",
    "#是一个可迭代的dataloader,这时候就调用了transform,因此接下来的数据都是tensor\n",
    "print('设定了每个batch为64,那么loader中应该有73257/64个,,batch内层循环就是在遍历这个容器')\n",
    "print('train_loader.dataset.__len__()',train_loader.dataset.__len__())\n",
    "print('len(train_loader):',len(train_loader))\n",
    "print('type(train_loader):',type(train_loader))\n",
    "print('---')\n",
    "print(train_loader.dataset,'22222')\n",
    "# print(type(train_loader),'2222')\n",
    "\n",
    "\n",
    "print('从loader中选一个batch出来,一个batch就是流过nn的一个元素')\n",
    "train_a_batch=next(iter(train_loader))#选一个batch出来\n",
    "print('type(train_a_batch):',type(train_a_batch))\n",
    "print('len(train_a_batch):',len(train_a_batch))\n",
    "print()\n",
    "\n",
    "print('这里注意到,每个batch是一个大list,其中有两个元素,一个是图像,另一个是标签张量')\n",
    "print('train_a_batch[0].shape:',train_a_batch[0].shape)\n",
    "print('train_a_batch[1].shape:',train_a_batch[1].shape)\n",
    "print('train_a_batch[0][0].shape:',train_a_batch[0][0].shape)\n",
    "\n",
    "print()\n",
    "rec=0\n",
    "for idx,(x,y) in enumerate(train_loader):\n",
    "    rec=idx\n",
    "print(rec)"
   ]
  },
  {
   "cell_type": "code",
   "execution_count": null,
   "metadata": {},
   "outputs": [],
   "source": []
  }
 ],
 "metadata": {
  "kernelspec": {
   "display_name": "Flux",
   "language": "python",
   "name": "python3"
  },
  "language_info": {
   "codemirror_mode": {
    "name": "ipython",
    "version": 3
   },
   "file_extension": ".py",
   "mimetype": "text/x-python",
   "name": "python",
   "nbconvert_exporter": "python",
   "pygments_lexer": "ipython3",
   "version": "3.10.16"
  }
 },
 "nbformat": 4,
 "nbformat_minor": 2
}
